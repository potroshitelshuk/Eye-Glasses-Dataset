{
 "cells": [
  {
   "cell_type": "code",
   "execution_count": 2,
   "metadata": {},
   "outputs": [],
   "source": [
    "import sys\n",
    "sys.path.insert(0, 'glasses')\n",
    "\n",
    "from typing import Tuple\n",
    "from image_folder import ImageFolderWithPaths, SingleImageFolder\n",
    "from train import NORMALIZITAION_FOR_PRETRAINED\n",
    "\n",
    "import shutil\n",
    "import torch\n",
    "import numpy as np\n",
    "import os\n",
    "\n",
    "from ipywidgets import IntProgress\n",
    "from IPython.display import display\n",
    "from facenet_pytorch import MTCNN, InceptionResnetV1\n",
    "from PIL import Image\n",
    "from torchvision import transforms, models, utils"
   ]
  },
  {
   "cell_type": "code",
   "execution_count": 3,
   "metadata": {},
   "outputs": [],
   "source": [
    "def check_glasses(images_path):\n",
    "    model_kind = 'squeeze'\n",
    "    model_params = 'glasses/dist/squeezenet_params'\n",
    "    threshold = 4\n",
    "    device = torch.device(\"cuda:0\" if torch.cuda.is_available() else \"cpu\")\n",
    "    if model_kind == 'resnet':\n",
    "        model = models.resnet18(pretrained=False, num_classes=1)\n",
    "    else:\n",
    "        model = models.squeezenet1_1(pretrained=False, num_classes=1)\n",
    "\n",
    "    if model_params is not None: \n",
    "        model.load_state_dict(torch.load(model_params, map_location=device))\n",
    "        model.to(device)\n",
    "        model.eval()\n",
    "        \n",
    "    transform = transforms.Compose([\n",
    "        transforms.CenterCrop(400),\n",
    "        transforms.Resize(224),\n",
    "        transforms.ToTensor(),\n",
    "        NORMALIZITAION_FOR_PRETRAINED\n",
    "    ])\n",
    "    images = SingleImageFolder(images_path, transform=transform)\n",
    "\n",
    "    for img_tensor, path in images:\n",
    "        if img_tensor == None:\n",
    "            continue\n",
    "        has_glasses = model(img_tensor.to(device).unsqueeze(0))\n",
    "        if (has_glasses > threshold):\n",
    "            return True\n",
    "    return False\n",
    "\n",
    "    \n",
    "def get_face_coordinates(path, mtcnn_model):\n",
    "    img = Image.open(path)\n",
    "    boxes, _ = mtcnn_model.detect(img)\n",
    "    if type(boxes) == np.ndarray:\n",
    "        if len(boxes) == 1:\n",
    "            return boxes[0]\n",
    "        else:\n",
    "            return []\n",
    "    else:\n",
    "        return []\n",
    "        \n",
    "        \n",
    "def check_shape(boxes, threshold):\n",
    "    \n",
    "    width = abs(max(0, boxes[0]) - max(0, boxes[2]))\n",
    "    height = abs(max(0, boxes[1]) - max(0, boxes[3]))\n",
    "    if width > threshold and height > threshold:\n",
    "        return True\n",
    "    return False\n",
    "\n",
    "\n",
    "\n",
    "def process_photo(filename, input_path, mtcnn_model, output_path):\n",
    "    \n",
    "    if filename == '.DS_Store': ## CHECKED\n",
    "        return\n",
    "        \n",
    "    path = input_path + filename ## image path\n",
    "    \n",
    "    coordinates = get_face_coordinates(path, mtcnn_model) ## get face' boxes\n",
    "    if coordinates != []: ## only one face on photo\n",
    "        is_ok = check_shape(coordinates, 255)\n",
    "    else:\n",
    "        is_ok = 0\n",
    "\n",
    "    if is_ok:\n",
    "        img = Image.open(path)\n",
    "#         img_test = img.crop(tuple(boxes)) TO DO: expand size\n",
    "        img.save('{0}temp.jpeg'.format(temp_path))\n",
    "\n",
    "        images_path = 'check_glasses' ## temp folder for model\n",
    "        \n",
    "        if check_glasses(images_path):\n",
    "            shutil.move(path, output_path + filename)\n",
    "    "
   ]
  },
  {
   "cell_type": "code",
   "execution_count": 4,
   "metadata": {},
   "outputs": [
    {
     "data": {
      "application/vnd.jupyter.widget-view+json": {
       "model_id": "dceed00e87f04f09b32e92b4b030d4b2",
       "version_major": 2,
       "version_minor": 0
      },
      "text/plain": [
       "IntProgress(value=0, max=1)"
      ]
     },
     "metadata": {},
     "output_type": "display_data"
    }
   ],
   "source": [
    "mtcnn_model = MTCNN()\n",
    "\n",
    "input_path = 'Input_Dataset/'\n",
    "output_path = 'Output_Dataset/'\n",
    "temp_path = 'Check_glasses/'\n",
    "\n",
    "progress = IntProgress(min=0, max=len(os.listdir(input_path)), value=0)\n",
    "display(progress)\n",
    "\n",
    "images = os.listdir(input_path)\n",
    "images.sort()\n",
    "\n",
    "for i, filename in enumerate(images):\n",
    "    process_photo(filename, input_path, mtcnn_model, output_path)\n",
    "    \n",
    "    if (i % 10 == 0):\n",
    "        progress.value = i\n",
    "            \n",
    "    "
   ]
  },
  {
   "cell_type": "code",
   "execution_count": null,
   "metadata": {},
   "outputs": [],
   "source": []
  }
 ],
 "metadata": {
  "kernelspec": {
   "display_name": "Python 3",
   "language": "python",
   "name": "python3"
  },
  "language_info": {
   "codemirror_mode": {
    "name": "ipython",
    "version": 3
   },
   "file_extension": ".py",
   "mimetype": "text/x-python",
   "name": "python",
   "nbconvert_exporter": "python",
   "pygments_lexer": "ipython3",
   "version": "3.7.3"
  }
 },
 "nbformat": 4,
 "nbformat_minor": 2
}
